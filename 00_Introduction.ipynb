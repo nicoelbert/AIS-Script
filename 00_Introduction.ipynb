{
  "cells": [
    {
      "cell_type": "markdown",
      "metadata": {
        "id": "view-in-github",
        "colab_type": "text"
      },
      "source": [
        "<a href=\"https://colab.research.google.com/github/nicoelbert/AIS-Script/blob/master/00_Introduction.ipynb\" target=\"_parent\"><img src=\"https://colab.research.google.com/assets/colab-badge.svg\" alt=\"Open In Colab\"/></a>"
      ]
    },
    {
      "cell_type": "markdown",
      "metadata": {
        "id": "RQNKDp_MZUZR"
      },
      "source": [
        "<div class='bar_title'></div>\n",
        "\n",
        "*Decision Support Systems*\n",
        "\n",
        "# Introduction\n",
        "\n",
        "Christoph M. Flath / Toni Greif<br>\n",
        "Chair of Information Systems and Business Analytics\n",
        "\n",
        "Winter Semester 21/22"
      ]
    },
    {
      "cell_type": "markdown",
      "metadata": {
        "id": "V4lHk45AZUZU",
        "toc": true
      },
      "source": [
        "<h1>Table of Contents<span class=\"tocSkip\"></span></h1>\n",
        "<div class=\"toc\"><ul class=\"toc-item\"><li><span><a href=\"#Chair-of-Information-Systems-and-Business-Analytics\" data-toc-modified-id=\"Chair-of-Information-Systems-and-Business-Analytics-1\"><span class=\"toc-item-num\">1&nbsp;&nbsp;</span>Chair of Information Systems and Business Analytics</a></span><ul class=\"toc-item\"><li><span><a href=\"#Team\" data-toc-modified-id=\"Team-1.1\"><span class=\"toc-item-num\">1.1&nbsp;&nbsp;</span>Team</a></span></li><li><span><a href=\"#Research-Areas\" data-toc-modified-id=\"Research-Areas-1.2\"><span class=\"toc-item-num\">1.2&nbsp;&nbsp;</span>Research Areas</a></span></li><li><span><a href=\"#Master-Teaching-Program\" data-toc-modified-id=\"Master-Teaching-Program-1.3\"><span class=\"toc-item-num\">1.3&nbsp;&nbsp;</span>Master Teaching Program</a></span></li></ul></li><li><span><a href=\"#Course-Organization\" data-toc-modified-id=\"Course-Organization-2\"><span class=\"toc-item-num\">2&nbsp;&nbsp;</span>Course Organization</a></span><ul class=\"toc-item\"><li><span><a href=\"#Learning-Objectives\" data-toc-modified-id=\"Learning-Objectives-2.1\"><span class=\"toc-item-num\">2.1&nbsp;&nbsp;</span>Learning Objectives</a></span></li><li><span><a href=\"#Tentative-Schedule-of-Topics\" data-toc-modified-id=\"Tentative-Schedule-of-Topics-2.2\"><span class=\"toc-item-num\">2.2&nbsp;&nbsp;</span>Tentative Schedule of Topics</a></span></li><li><span><a href=\"#Programming-Assignments\" data-toc-modified-id=\"Programming-Assignments-2.3\"><span class=\"toc-item-num\">2.3&nbsp;&nbsp;</span>Programming Assignments</a></span></li></ul></li><li><span><a href=\"#Programming-Language-(Python)\" data-toc-modified-id=\"Programming-Language-(Python)-3\"><span class=\"toc-item-num\">3&nbsp;&nbsp;</span>Programming Language (Python)</a></span></li></ul></div>"
      ]
    },
    {
      "cell_type": "markdown",
      "metadata": {
        "id": "mPO4LNpUzNB-"
      },
      "source": [
        "## About us\n",
        "\n",
        "*Christoph M. Flath*\n",
        "\n",
        "- Since 04/2018 Full professor for Information Systems (JMU)\n",
        "    − Research topics: Analytics, industrial internet applications, smart cities, digital retail\n",
        "- 06/2014-03/2018 Assistant Professor Operations Management(JMU)\n",
        "- 05/2009-06/2014 PhD in Information Systems and subsequent PostDoc appointment (KIT)\n",
        "- 10/2003-11/2008 Studies of Industrial Engineering and Management (KIT)\n",
        "\n",
        "\n",
        "*Toni Greif*\n",
        "\n",
        "- Since 09/2018 Research Assistant\n",
        "- Research topic: Data-driven decision support silo logistics\n",
        "- 10/2015-10/2018 Master (Mathematics & Business Mathematics)\n",
        "- 10/2012-10/2015 Bachelor (Mathematics) "
      ]
    },
    {
      "cell_type": "markdown",
      "metadata": {
        "id": "vSFjRRMoZUZV"
      },
      "source": [
        "## Chair of Information Systems and Business Analytics"
      ]
    },
    {
      "cell_type": "markdown",
      "metadata": {
        "id": "pLp6XzM6ZUZW"
      },
      "source": [
        "### Team"
      ]
    },
    {
      "cell_type": "markdown",
      "metadata": {
        "id": "vupiVuoAZUZW"
      },
      "source": [
        "<img src=\"https://github.com/wi3jmu/DSS_BOOK/blob/389f0b81f77fbd4f13cd2529cc5e7dd73a4ee9aa/images/team.png\" style=\"width:80%\">"
      ]
    },
    {
      "cell_type": "markdown",
      "metadata": {
        "id": "LZQ3EdrvZUZX"
      },
      "source": [
        "### Research Areas"
      ]
    },
    {
      "cell_type": "markdown",
      "metadata": {
        "hide_input": true,
        "id": "w6_SWZN0ZUZX"
      },
      "source": [
        "<img src=\"https://github.com/NikoStein/pds_data/raw/main/images/01/research.png\" style=\"width:80%\">"
      ]
    },
    {
      "cell_type": "markdown",
      "metadata": {
        "id": "FR_af-6uZUZY"
      },
      "source": [
        "### Master Teaching Program"
      ]
    },
    {
      "cell_type": "markdown",
      "metadata": {
        "hide_input": true,
        "id": "3zy0eavBZUZY"
      },
      "source": [
        "<img src=\"https://github.com/NikoStein/pds_data/raw/main/images/01/courses_master.png\" style=\"width:80%\">"
      ]
    },
    {
      "cell_type": "markdown",
      "metadata": {
        "id": "71lkQI1HZUZZ"
      },
      "source": [
        "## Course Organization"
      ]
    },
    {
      "cell_type": "markdown",
      "metadata": {
        "cell_style": "split",
        "id": "P4gA1LRWZUZa"
      },
      "source": [
        "- Course times\n",
        "    − Lecture: Wednesday 12:15 – 13:45 Alte IHK HS\n",
        "    − Tutorial: Thursday 12:15 – 13:45 CIP II\n",
        "    \n",
        "- Material on WueCampus\n",
        "    − Lecture slides\n",
        "    − Exercises\n",
        "    − Forum\n",
        "    − Access Code: DSS1920\n",
        "    \n",
        "- Assessment\n",
        "    − Exam + optional Bonus from tutorials"
      ]
    },
    {
      "cell_type": "markdown",
      "metadata": {
        "id": "MIPcLAkgZUZb"
      },
      "source": [
        "### Course Objectives"
      ]
    },
    {
      "cell_type": "markdown",
      "metadata": {
        "id": "m0OcammpZUZb"
      },
      "source": [
        "- Understand the structure of classic business decision problems\n",
        "- Develop the skills for simplifying real business problems and transform them into (quantitative) models\n",
        "- Learn methods for solving and optimizing typical problem classes\n",
        "- Gather experience in implementing Decision Support Systems using spreadsheets and other quantitative software tools"
      ]
    },
    {
      "cell_type": "markdown",
      "metadata": {
        "id": "J-wj7rIaZUZb"
      },
      "source": [
        "### Tentative Schedule of Topics"
      ]
    },
    {
      "cell_type": "markdown",
      "metadata": {
        "id": "cNKreTgMZUZb"
      },
      "source": [
        "1. Introduction\n",
        "2. Linear Programming\n",
        "    1. Overview\n",
        "    2. Duality\n",
        "    3. Modeling\n",
        "3. Linear Programming under Uncertainty\n",
        "    1. Sensitivity Analysis\n",
        "    2. Robust Optimization\n",
        "    3. Stochastic Programming\n",
        "4. Integer Programming\n",
        "    1. Introduction\n",
        "    2. Classic Problems\n",
        "    3. Large Scale Optimization\n",
        "5. Non-linear Programming\n",
        "6. Dynamic Programming\n",
        "7. Queuing Theory"
      ]
    },
    {
      "cell_type": "markdown",
      "metadata": {
        "id": "5u2jVmBvZUZc"
      },
      "source": [
        ""
      ]
    }
  ],
  "metadata": {
    "celltoolbar": "Slideshow",
    "colab": {
      "name": "01_Introduction.ipynb",
      "provenance": [],
      "include_colab_link": true
    },
    "kernelspec": {
      "display_name": "Python 3",
      "language": "python",
      "name": "python3"
    },
    "language_info": {
      "codemirror_mode": {
        "name": "ipython",
        "version": 3
      },
      "file_extension": ".py",
      "mimetype": "text/x-python",
      "name": "python",
      "nbconvert_exporter": "python",
      "pygments_lexer": "ipython3",
      "version": "3.8.8"
    },
    "rise": {
      "enable_chalkboard": false,
      "overlay": "<div class='background'></div><div class='header'>WS 21/22</br>PDS</div><div class='logo'><img src='images/unilogo.png'></div><div class='bar'></div>",
      "scroll": true,
      "slideNumber": "h.v"
    },
    "toc": {
      "base_numbering": 1,
      "nav_menu": {},
      "number_sections": true,
      "sideBar": true,
      "skip_h1_title": true,
      "title_cell": "Table of Contents",
      "title_sidebar": "Contents",
      "toc_cell": true,
      "toc_position": {},
      "toc_section_display": true,
      "toc_window_display": false
    }
  },
  "nbformat": 4,
  "nbformat_minor": 0
}